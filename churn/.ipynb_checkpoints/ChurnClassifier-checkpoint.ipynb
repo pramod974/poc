{
 "cells": [
  {
   "cell_type": "markdown",
   "metadata": {},
   "source": [
    "# Predicting Churn using Customer Behaviour data"
   ]
  },
  {
   "cell_type": "raw",
   "metadata": {},
   "source": [
    "Using a Supervised learning technique to predict if a customer will churn.\n",
    "\n",
    "Using gradient boosted Classification model, bulding a model using parameters described below\n",
    "\n",
    "Customers who left within the last month – the column is called Churn\n",
    "\n",
    "Services that each customer has signed up for – DigitalBanking\tMultipleDigitalServices\tOnlineService\tShareTrade\tLoan\tDeposits\tTechSupport\tDebitCard\tCreditCard\n",
    "\n",
    "Customer account information – how long they’ve been a customer, contract, payment method, PaperlessStatement, monthly Revenue, and total revenue\n",
    "\n",
    "Demographic info about customers – gender, age range, and if they have partners and dependents\n",
    "\n",
    "To Predict Sleep Apnea: \n",
    "Pass \n",
    "\n",
    "[\"Heart Rate\" , \"Average Sleep Minutes\" ,\"Average WakeMinutes\"(or REM sleep minutes if availbale)] to get the Score\n",
    "0 -> No Churn\n",
    "1 -> Yes will churn\n"
   ]
  },
  {
   "cell_type": "code",
   "execution_count": 19,
   "metadata": {},
   "outputs": [
    {
     "data": {
      "text/html": [
       "<div>\n",
       "<style scoped>\n",
       "    .dataframe tbody tr th:only-of-type {\n",
       "        vertical-align: middle;\n",
       "    }\n",
       "\n",
       "    .dataframe tbody tr th {\n",
       "        vertical-align: top;\n",
       "    }\n",
       "\n",
       "    .dataframe thead th {\n",
       "        text-align: right;\n",
       "    }\n",
       "</style>\n",
       "<table border=\"1\" class=\"dataframe\">\n",
       "  <thead>\n",
       "    <tr style=\"text-align: right;\">\n",
       "      <th></th>\n",
       "      <th>customerID</th>\n",
       "      <th>gender</th>\n",
       "      <th>SeniorCitizen</th>\n",
       "      <th>Partner</th>\n",
       "      <th>Dependents</th>\n",
       "      <th>tenure</th>\n",
       "      <th>DigitalBanking</th>\n",
       "      <th>MultipleDigitalServices</th>\n",
       "      <th>OnlineService</th>\n",
       "      <th>ShareTrade</th>\n",
       "      <th>...</th>\n",
       "      <th>Deposits</th>\n",
       "      <th>TechSupport</th>\n",
       "      <th>DebitCard</th>\n",
       "      <th>CreditCard</th>\n",
       "      <th>Contract</th>\n",
       "      <th>PaperlessStatement</th>\n",
       "      <th>PaymentMethod</th>\n",
       "      <th>MonthlyRevenue</th>\n",
       "      <th>TotalRevenue</th>\n",
       "      <th>Churn</th>\n",
       "    </tr>\n",
       "  </thead>\n",
       "  <tbody>\n",
       "    <tr>\n",
       "      <th>0</th>\n",
       "      <td>7590-VHVEG</td>\n",
       "      <td>Female</td>\n",
       "      <td>0</td>\n",
       "      <td>Yes</td>\n",
       "      <td>No</td>\n",
       "      <td>1</td>\n",
       "      <td>No</td>\n",
       "      <td>No digital service</td>\n",
       "      <td>S1</td>\n",
       "      <td>No</td>\n",
       "      <td>...</td>\n",
       "      <td>No</td>\n",
       "      <td>No</td>\n",
       "      <td>No</td>\n",
       "      <td>No</td>\n",
       "      <td>Month-to-month</td>\n",
       "      <td>Yes</td>\n",
       "      <td>Electronic check</td>\n",
       "      <td>29.85</td>\n",
       "      <td>29.85</td>\n",
       "      <td>No</td>\n",
       "    </tr>\n",
       "    <tr>\n",
       "      <th>1</th>\n",
       "      <td>5575-GNVDE</td>\n",
       "      <td>Male</td>\n",
       "      <td>0</td>\n",
       "      <td>No</td>\n",
       "      <td>No</td>\n",
       "      <td>34</td>\n",
       "      <td>Yes</td>\n",
       "      <td>No</td>\n",
       "      <td>S1</td>\n",
       "      <td>Yes</td>\n",
       "      <td>...</td>\n",
       "      <td>Yes</td>\n",
       "      <td>No</td>\n",
       "      <td>No</td>\n",
       "      <td>No</td>\n",
       "      <td>One year</td>\n",
       "      <td>No</td>\n",
       "      <td>Mailed check</td>\n",
       "      <td>56.95</td>\n",
       "      <td>1889.50</td>\n",
       "      <td>No</td>\n",
       "    </tr>\n",
       "    <tr>\n",
       "      <th>2</th>\n",
       "      <td>3668-QPYBK</td>\n",
       "      <td>Male</td>\n",
       "      <td>0</td>\n",
       "      <td>No</td>\n",
       "      <td>No</td>\n",
       "      <td>2</td>\n",
       "      <td>Yes</td>\n",
       "      <td>No</td>\n",
       "      <td>S1</td>\n",
       "      <td>Yes</td>\n",
       "      <td>...</td>\n",
       "      <td>No</td>\n",
       "      <td>No</td>\n",
       "      <td>No</td>\n",
       "      <td>No</td>\n",
       "      <td>Month-to-month</td>\n",
       "      <td>Yes</td>\n",
       "      <td>Mailed check</td>\n",
       "      <td>53.85</td>\n",
       "      <td>108.15</td>\n",
       "      <td>Yes</td>\n",
       "    </tr>\n",
       "    <tr>\n",
       "      <th>3</th>\n",
       "      <td>7795-CFOCW</td>\n",
       "      <td>Male</td>\n",
       "      <td>0</td>\n",
       "      <td>No</td>\n",
       "      <td>No</td>\n",
       "      <td>45</td>\n",
       "      <td>No</td>\n",
       "      <td>No digital service</td>\n",
       "      <td>S1</td>\n",
       "      <td>Yes</td>\n",
       "      <td>...</td>\n",
       "      <td>Yes</td>\n",
       "      <td>Yes</td>\n",
       "      <td>No</td>\n",
       "      <td>No</td>\n",
       "      <td>One year</td>\n",
       "      <td>No</td>\n",
       "      <td>Bank transfer (automatic)</td>\n",
       "      <td>42.30</td>\n",
       "      <td>1840.75</td>\n",
       "      <td>No</td>\n",
       "    </tr>\n",
       "    <tr>\n",
       "      <th>4</th>\n",
       "      <td>9237-HQITU</td>\n",
       "      <td>Female</td>\n",
       "      <td>0</td>\n",
       "      <td>No</td>\n",
       "      <td>No</td>\n",
       "      <td>2</td>\n",
       "      <td>Yes</td>\n",
       "      <td>No</td>\n",
       "      <td>S2</td>\n",
       "      <td>No</td>\n",
       "      <td>...</td>\n",
       "      <td>No</td>\n",
       "      <td>No</td>\n",
       "      <td>No</td>\n",
       "      <td>No</td>\n",
       "      <td>Month-to-month</td>\n",
       "      <td>Yes</td>\n",
       "      <td>Electronic check</td>\n",
       "      <td>70.70</td>\n",
       "      <td>151.65</td>\n",
       "      <td>Yes</td>\n",
       "    </tr>\n",
       "  </tbody>\n",
       "</table>\n",
       "<p>5 rows × 21 columns</p>\n",
       "</div>"
      ],
      "text/plain": [
       "   customerID  gender  SeniorCitizen Partner Dependents  tenure  \\\n",
       "0  7590-VHVEG  Female              0     Yes         No       1   \n",
       "1  5575-GNVDE    Male              0      No         No      34   \n",
       "2  3668-QPYBK    Male              0      No         No       2   \n",
       "3  7795-CFOCW    Male              0      No         No      45   \n",
       "4  9237-HQITU  Female              0      No         No       2   \n",
       "\n",
       "  DigitalBanking MultipleDigitalServices OnlineService ShareTrade  ...    \\\n",
       "0             No      No digital service            S1         No  ...     \n",
       "1            Yes                      No            S1        Yes  ...     \n",
       "2            Yes                      No            S1        Yes  ...     \n",
       "3             No      No digital service            S1        Yes  ...     \n",
       "4            Yes                      No            S2         No  ...     \n",
       "\n",
       "  Deposits TechSupport DebitCard CreditCard        Contract  \\\n",
       "0       No          No        No         No  Month-to-month   \n",
       "1      Yes          No        No         No        One year   \n",
       "2       No          No        No         No  Month-to-month   \n",
       "3      Yes         Yes        No         No        One year   \n",
       "4       No          No        No         No  Month-to-month   \n",
       "\n",
       "  PaperlessStatement              PaymentMethod MonthlyRevenue  TotalRevenue  \\\n",
       "0                Yes           Electronic check          29.85         29.85   \n",
       "1                 No               Mailed check          56.95       1889.50   \n",
       "2                Yes               Mailed check          53.85        108.15   \n",
       "3                 No  Bank transfer (automatic)          42.30       1840.75   \n",
       "4                Yes           Electronic check          70.70        151.65   \n",
       "\n",
       "   Churn  \n",
       "0     No  \n",
       "1     No  \n",
       "2    Yes  \n",
       "3     No  \n",
       "4    Yes  \n",
       "\n",
       "[5 rows x 21 columns]"
      ]
     },
     "execution_count": 19,
     "metadata": {},
     "output_type": "execute_result"
    }
   ],
   "source": [
    "\n",
    "import sys\n",
    "import types\n",
    "import pandas as pd\n",
    "\n",
    "\n",
    "df_data_1 = pd.read_csv('/Users/pramodkumar/Downloads/poc/Finocracy/CustomerRetention.csv')\n",
    "df_data_1.head()\n",
    "\n"
   ]
  },
  {
   "cell_type": "code",
   "execution_count": 20,
   "metadata": {},
   "outputs": [
    {
     "data": {
      "text/plain": [
       "Index(['customerID', 'gender', 'SeniorCitizen', 'Partner', 'Dependents',\n",
       "       'tenure', 'DigitalBanking', 'MultipleDigitalServices', 'OnlineService',\n",
       "       'ShareTrade', 'Loan', 'Deposits', 'TechSupport', 'DebitCard',\n",
       "       'CreditCard', 'Contract', 'PaperlessStatement', 'PaymentMethod',\n",
       "       'MonthlyRevenue', 'TotalRevenue', 'Churn'],\n",
       "      dtype='object')"
      ]
     },
     "execution_count": 20,
     "metadata": {},
     "output_type": "execute_result"
    }
   ],
   "source": [
    "df_data_1.columns"
   ]
  },
  {
   "cell_type": "code",
   "execution_count": 21,
   "metadata": {},
   "outputs": [
    {
     "name": "stdout",
     "output_type": "stream",
     "text": [
      "List of features with their corresponding count of null values : \n",
      "---------------------------------------------------------------- \n",
      "customerID                 0\n",
      "gender                     0\n",
      "SeniorCitizen              0\n",
      "Partner                    0\n",
      "Dependents                 0\n",
      "tenure                     0\n",
      "DigitalBanking             0\n",
      "MultipleDigitalServices    0\n",
      "OnlineService              0\n",
      "ShareTrade                 0\n",
      "Loan                       0\n",
      "Deposits                   0\n",
      "TechSupport                0\n",
      "DebitCard                  0\n",
      "CreditCard                 0\n",
      "Contract                   0\n",
      "PaperlessStatement         0\n",
      "PaymentMethod              0\n",
      "MonthlyRevenue             0\n",
      "TotalRevenue               0\n",
      "Churn                      0\n",
      "dtype: int64\n"
     ]
    }
   ],
   "source": [
    "print(\"List of features with their corresponding count of null values : \")\n",
    "print(\"---------------------------------------------------------------- \")\n",
    "print(df_data_1.isnull().sum())"
   ]
  },
  {
   "cell_type": "markdown",
   "metadata": {},
   "source": [
    "# Drop the NaN"
   ]
  },
  {
   "cell_type": "code",
   "execution_count": 22,
   "metadata": {},
   "outputs": [],
   "source": [
    "df_data_1 = df_data_1.dropna(how='any',axis=0)"
   ]
  },
  {
   "cell_type": "markdown",
   "metadata": {},
   "source": [
    "# Total Data Set"
   ]
  },
  {
   "cell_type": "code",
   "execution_count": 23,
   "metadata": {},
   "outputs": [
    {
     "data": {
      "text/plain": [
       "7043"
      ]
     },
     "execution_count": 23,
     "metadata": {},
     "output_type": "execute_result"
    }
   ],
   "source": [
    "len(df_data_1)"
   ]
  },
  {
   "cell_type": "code",
   "execution_count": 24,
   "metadata": {},
   "outputs": [
    {
     "data": {
      "text/plain": [
       "No     5174\n",
       "Yes    1869\n",
       "Name: Churn, dtype: int64"
      ]
     },
     "execution_count": 24,
     "metadata": {},
     "output_type": "execute_result"
    }
   ],
   "source": [
    "df_data_1['Churn'].value_counts()"
   ]
  },
  {
   "cell_type": "markdown",
   "metadata": {},
   "source": [
    "# Encoding and Binning Transformations"
   ]
  },
  {
   "cell_type": "code",
   "execution_count": 25,
   "metadata": {},
   "outputs": [],
   "source": [
    "cleanup_nums = {\"gender\":{\"Female\": 1, \"Male\": 0},\n",
    "                \"Partner\": {\"Yes\": 1, \"No\": 0},\n",
    "                \"Dependents\":{\"Yes\":1,\"No\":0},\n",
    "                \"DigitalBanking\":{\"Yes\":1,\"No\":0},\n",
    "                \"MultipleDigitalServices\":{\"No digital service\":2,\"Yes\":1,\"No\":0},\n",
    "                \"OnlineService\":{\"S1\":1,\"S2\":1,\"No\":0},\n",
    "                \"ShareTrade\":{\"No online service\":2,\"Yes\":1,\"No\":0},\n",
    "                \"Loan\":{\"No online service\":2,\"Yes\":1,\"No\":0},\n",
    "                \"Deposits\":{\"No online service\":2,\"Yes\":1,\"No\":0},\n",
    "                \"TechSupport\":{\"No online service\":2,\"Yes\":1,\"No\":0},\n",
    "                \"DebitCard\":{\"No online service\":2,\"Yes\":1,\"No\":0},\n",
    "                \"CreditCard\":{\"No online service\":2,\"Yes\":1,\"No\":0},\n",
    "                \"Contract\":{\"Two year\":2,\"One year\":1,\"Month-to-month\":0},\n",
    "                \"PaperlessStatement\":{\"Yes\":1,\"No\":0},\n",
    "                \"PaymentMethod\":{\"Electronic check\":0,\"Mailed check\":1,\"Bank transfer (automatic)\":2,\"Credit card (automatic)\":3},\n",
    "                \"Churn\":{\"Yes\":1,\"No\":0}\n",
    "                }\n"
   ]
  },
  {
   "cell_type": "code",
   "execution_count": 26,
   "metadata": {},
   "outputs": [
    {
     "data": {
      "text/html": [
       "<div>\n",
       "<style scoped>\n",
       "    .dataframe tbody tr th:only-of-type {\n",
       "        vertical-align: middle;\n",
       "    }\n",
       "\n",
       "    .dataframe tbody tr th {\n",
       "        vertical-align: top;\n",
       "    }\n",
       "\n",
       "    .dataframe thead th {\n",
       "        text-align: right;\n",
       "    }\n",
       "</style>\n",
       "<table border=\"1\" class=\"dataframe\">\n",
       "  <thead>\n",
       "    <tr style=\"text-align: right;\">\n",
       "      <th></th>\n",
       "      <th>customerID</th>\n",
       "      <th>gender</th>\n",
       "      <th>SeniorCitizen</th>\n",
       "      <th>Partner</th>\n",
       "      <th>Dependents</th>\n",
       "      <th>tenure</th>\n",
       "      <th>DigitalBanking</th>\n",
       "      <th>MultipleDigitalServices</th>\n",
       "      <th>OnlineService</th>\n",
       "      <th>ShareTrade</th>\n",
       "      <th>...</th>\n",
       "      <th>Deposits</th>\n",
       "      <th>TechSupport</th>\n",
       "      <th>DebitCard</th>\n",
       "      <th>CreditCard</th>\n",
       "      <th>Contract</th>\n",
       "      <th>PaperlessStatement</th>\n",
       "      <th>PaymentMethod</th>\n",
       "      <th>MonthlyRevenue</th>\n",
       "      <th>TotalRevenue</th>\n",
       "      <th>Churn</th>\n",
       "    </tr>\n",
       "  </thead>\n",
       "  <tbody>\n",
       "    <tr>\n",
       "      <th>0</th>\n",
       "      <td>7590-VHVEG</td>\n",
       "      <td>1</td>\n",
       "      <td>0</td>\n",
       "      <td>1</td>\n",
       "      <td>0</td>\n",
       "      <td>1</td>\n",
       "      <td>0</td>\n",
       "      <td>2</td>\n",
       "      <td>1</td>\n",
       "      <td>0</td>\n",
       "      <td>...</td>\n",
       "      <td>0</td>\n",
       "      <td>0</td>\n",
       "      <td>0</td>\n",
       "      <td>0</td>\n",
       "      <td>0</td>\n",
       "      <td>1</td>\n",
       "      <td>0</td>\n",
       "      <td>29.85</td>\n",
       "      <td>29.85</td>\n",
       "      <td>0</td>\n",
       "    </tr>\n",
       "    <tr>\n",
       "      <th>1</th>\n",
       "      <td>5575-GNVDE</td>\n",
       "      <td>0</td>\n",
       "      <td>0</td>\n",
       "      <td>0</td>\n",
       "      <td>0</td>\n",
       "      <td>34</td>\n",
       "      <td>1</td>\n",
       "      <td>0</td>\n",
       "      <td>1</td>\n",
       "      <td>1</td>\n",
       "      <td>...</td>\n",
       "      <td>1</td>\n",
       "      <td>0</td>\n",
       "      <td>0</td>\n",
       "      <td>0</td>\n",
       "      <td>1</td>\n",
       "      <td>0</td>\n",
       "      <td>1</td>\n",
       "      <td>56.95</td>\n",
       "      <td>1889.50</td>\n",
       "      <td>0</td>\n",
       "    </tr>\n",
       "    <tr>\n",
       "      <th>2</th>\n",
       "      <td>3668-QPYBK</td>\n",
       "      <td>0</td>\n",
       "      <td>0</td>\n",
       "      <td>0</td>\n",
       "      <td>0</td>\n",
       "      <td>2</td>\n",
       "      <td>1</td>\n",
       "      <td>0</td>\n",
       "      <td>1</td>\n",
       "      <td>1</td>\n",
       "      <td>...</td>\n",
       "      <td>0</td>\n",
       "      <td>0</td>\n",
       "      <td>0</td>\n",
       "      <td>0</td>\n",
       "      <td>0</td>\n",
       "      <td>1</td>\n",
       "      <td>1</td>\n",
       "      <td>53.85</td>\n",
       "      <td>108.15</td>\n",
       "      <td>1</td>\n",
       "    </tr>\n",
       "    <tr>\n",
       "      <th>3</th>\n",
       "      <td>7795-CFOCW</td>\n",
       "      <td>0</td>\n",
       "      <td>0</td>\n",
       "      <td>0</td>\n",
       "      <td>0</td>\n",
       "      <td>45</td>\n",
       "      <td>0</td>\n",
       "      <td>2</td>\n",
       "      <td>1</td>\n",
       "      <td>1</td>\n",
       "      <td>...</td>\n",
       "      <td>1</td>\n",
       "      <td>1</td>\n",
       "      <td>0</td>\n",
       "      <td>0</td>\n",
       "      <td>1</td>\n",
       "      <td>0</td>\n",
       "      <td>2</td>\n",
       "      <td>42.30</td>\n",
       "      <td>1840.75</td>\n",
       "      <td>0</td>\n",
       "    </tr>\n",
       "    <tr>\n",
       "      <th>4</th>\n",
       "      <td>9237-HQITU</td>\n",
       "      <td>1</td>\n",
       "      <td>0</td>\n",
       "      <td>0</td>\n",
       "      <td>0</td>\n",
       "      <td>2</td>\n",
       "      <td>1</td>\n",
       "      <td>0</td>\n",
       "      <td>1</td>\n",
       "      <td>0</td>\n",
       "      <td>...</td>\n",
       "      <td>0</td>\n",
       "      <td>0</td>\n",
       "      <td>0</td>\n",
       "      <td>0</td>\n",
       "      <td>0</td>\n",
       "      <td>1</td>\n",
       "      <td>0</td>\n",
       "      <td>70.70</td>\n",
       "      <td>151.65</td>\n",
       "      <td>1</td>\n",
       "    </tr>\n",
       "  </tbody>\n",
       "</table>\n",
       "<p>5 rows × 21 columns</p>\n",
       "</div>"
      ],
      "text/plain": [
       "   customerID  gender  SeniorCitizen  Partner  Dependents  tenure  \\\n",
       "0  7590-VHVEG       1              0        1           0       1   \n",
       "1  5575-GNVDE       0              0        0           0      34   \n",
       "2  3668-QPYBK       0              0        0           0       2   \n",
       "3  7795-CFOCW       0              0        0           0      45   \n",
       "4  9237-HQITU       1              0        0           0       2   \n",
       "\n",
       "   DigitalBanking  MultipleDigitalServices  OnlineService  ShareTrade  ...    \\\n",
       "0               0                        2              1           0  ...     \n",
       "1               1                        0              1           1  ...     \n",
       "2               1                        0              1           1  ...     \n",
       "3               0                        2              1           1  ...     \n",
       "4               1                        0              1           0  ...     \n",
       "\n",
       "   Deposits  TechSupport  DebitCard  CreditCard  Contract  PaperlessStatement  \\\n",
       "0         0            0          0           0         0                   1   \n",
       "1         1            0          0           0         1                   0   \n",
       "2         0            0          0           0         0                   1   \n",
       "3         1            1          0           0         1                   0   \n",
       "4         0            0          0           0         0                   1   \n",
       "\n",
       "   PaymentMethod  MonthlyRevenue  TotalRevenue  Churn  \n",
       "0              0           29.85         29.85      0  \n",
       "1              1           56.95       1889.50      0  \n",
       "2              1           53.85        108.15      1  \n",
       "3              2           42.30       1840.75      0  \n",
       "4              0           70.70        151.65      1  \n",
       "\n",
       "[5 rows x 21 columns]"
      ]
     },
     "execution_count": 26,
     "metadata": {},
     "output_type": "execute_result"
    }
   ],
   "source": [
    "df_data_1.replace(cleanup_nums, inplace=True)\n",
    "df_data_1.head()"
   ]
  },
  {
   "cell_type": "code",
   "execution_count": 27,
   "metadata": {},
   "outputs": [],
   "source": [
    "feature_cols = [\"Contract\",\n",
    "\"OnlineService\",\n",
    "\"tenure\",\n",
    "\"TotalRevenue\",\n",
    "\"TechSupport\",\n",
    "\"PaperlessStatement\",\n",
    "\"CreditCard\",\n",
    "\"MultipleDigitalServices\",\n",
    "\"DigitalBanking\",\n",
    "\"PaymentMethod\",\n",
    "\"DebitCard\",\n",
    "\"MonthlyRevenue\",\n",
    "\"SeniorCitizen\",\n",
    "\"gender\"]\n",
    "features_df = df_data_1[feature_cols]"
   ]
  },
  {
   "cell_type": "code",
   "execution_count": 28,
   "metadata": {},
   "outputs": [],
   "source": [
    "from sklearn import ensemble\n",
    "from sklearn import model_selection"
   ]
  },
  {
   "cell_type": "markdown",
   "metadata": {},
   "source": [
    "# From the Dataset , split the dataset into Testing and training"
   ]
  },
  {
   "cell_type": "code",
   "execution_count": 29,
   "metadata": {},
   "outputs": [],
   "source": [
    "fitbit_train, fitbit_test, target_train, target_test = model_selection.train_test_split(features_df, df_data_1.loc[:,'Churn'], test_size=0.33, random_state=10)\n"
   ]
  },
  {
   "cell_type": "markdown",
   "metadata": {},
   "source": [
    "# Train the Model and Get the accuracy"
   ]
  },
  {
   "cell_type": "code",
   "execution_count": 30,
   "metadata": {},
   "outputs": [
    {
     "data": {
      "text/plain": [
       "0.8068817204301075"
      ]
     },
     "execution_count": 30,
     "metadata": {},
     "output_type": "execute_result"
    }
   ],
   "source": [
    "clf1 = ensemble.GradientBoostingClassifier()\n",
    "clf1.fit(fitbit_train, target_train)\n",
    "clf1.score(fitbit_test,target_test)"
   ]
  },
  {
   "cell_type": "markdown",
   "metadata": {},
   "source": [
    "# Use the model to Classify if the person is having Sleep Apnea or Not"
   ]
  },
  {
   "cell_type": "code",
   "execution_count": 31,
   "metadata": {},
   "outputs": [],
   "source": [
    "testPd = fitbit_test.head(1)"
   ]
  },
  {
   "cell_type": "code",
   "execution_count": 32,
   "metadata": {},
   "outputs": [
    {
     "data": {
      "text/plain": [
       "array([0])"
      ]
     },
     "execution_count": 32,
     "metadata": {},
     "output_type": "execute_result"
    }
   ],
   "source": [
    "clf1.predict(testPd)"
   ]
  },
  {
   "cell_type": "raw",
   "metadata": {},
   "source": [
    "If 0 -> No Churn and 1 -> Will Churn"
   ]
  },
  {
   "cell_type": "code",
   "execution_count": null,
   "metadata": {},
   "outputs": [],
   "source": []
  },
  {
   "cell_type": "code",
   "execution_count": null,
   "metadata": {},
   "outputs": [],
   "source": []
  }
 ],
 "metadata": {
  "kernelspec": {
   "display_name": "Python 3",
   "language": "python",
   "name": "python3"
  },
  "language_info": {
   "codemirror_mode": {
    "name": "ipython",
    "version": 3
   },
   "file_extension": ".py",
   "mimetype": "text/x-python",
   "name": "python",
   "nbconvert_exporter": "python",
   "pygments_lexer": "ipython3",
   "version": "3.6.4"
  }
 },
 "nbformat": 4,
 "nbformat_minor": 1
}
